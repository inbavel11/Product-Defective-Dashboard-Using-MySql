{
 "cells": [
  {
   "cell_type": "code",
   "execution_count": null,
   "id": "6cba9204-8e9a-44af-9298-696655713e31",
   "metadata": {},
   "outputs": [],
   "source": [
    "\"C:\\Users\\Inbavel\\Downloads\\defect.csv\""
   ]
  },
  {
   "cell_type": "code",
   "execution_count": 2,
   "id": "4ae13b87-f78a-4cb6-98de-e7cfa65c608e",
   "metadata": {},
   "outputs": [],
   "source": [
    "import pandas as pd\n",
    "import mysql.connector\n",
    "\n",
    "# Read the CSV file into a DataFrame\n",
    "df = pd.read_csv('C:/Users/Inbavel/Downloads/defect.csv')  # Update with your actual file path\n",
    "\n",
    "# Ensure the 'Timestamp' column is in the correct time format (e.g., 7:01 AM)\n",
    "df['Timestamp'] = pd.to_datetime(df['Timestamp'], format='%I:%M %p').dt.time\n",
    "\n",
    "# Connect to MySQL\n",
    "connection = mysql.connector.connect(\n",
    "    host=\"localhost\",  # e.g., 'localhost' or an IP address\n",
    "    user=\"root\",  # your MySQL username\n",
    "    password=\"\",  # your MySQL password\n",
    "    database=\"rec\"  # the database to insert into\n",
    ")\n",
    "\n",
    "cursor = connection.cursor()\n",
    "\n",
    "# Create table if it doesn't exist\n",
    "create_table_query = \"\"\"\n",
    "CREATE TABLE IF NOT EXISTS products (\n",
    "    ProductId INT,\n",
    "    Status INT,\n",
    "    Defective FLOAT,\n",
    "    Cover INT,\n",
    "    Flavour INT,\n",
    "    Shape INT,\n",
    "    Timestamp TIME\n",
    ");\n",
    "\"\"\"\n",
    "cursor.execute(create_table_query)\n",
    "\n",
    "# Insert data into the table\n",
    "for i, row in df.iterrows():\n",
    "    insert_query = \"\"\"\n",
    "    INSERT INTO products (ProductId, Status, Defective, Cover, Flavour, Shape, Timestamp)\n",
    "    VALUES (%s, %s, %s, %s, %s, %s, %s)\n",
    "    \"\"\"\n",
    "    values = tuple(row)  # Convert the row to a tuple\n",
    "    cursor.execute(insert_query, values)\n",
    "\n",
    "# Commit the transaction\n",
    "connection.commit()\n",
    "\n",
    "# Close the cursor and connection\n",
    "cursor.close()\n",
    "connection.close()\n"
   ]
  },
  {
   "cell_type": "code",
   "execution_count": null,
   "id": "42f9cfeb-d29a-4705-a212-491d65b8b29c",
   "metadata": {},
   "outputs": [],
   "source": []
  }
 ],
 "metadata": {
  "kernelspec": {
   "display_name": "Python 3 (ipykernel)",
   "language": "python",
   "name": "python3"
  },
  "language_info": {
   "codemirror_mode": {
    "name": "ipython",
    "version": 3
   },
   "file_extension": ".py",
   "mimetype": "text/x-python",
   "name": "python",
   "nbconvert_exporter": "python",
   "pygments_lexer": "ipython3",
   "version": "3.11.1"
  }
 },
 "nbformat": 4,
 "nbformat_minor": 5
}
